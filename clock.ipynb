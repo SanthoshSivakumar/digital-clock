{
 "cells": [
  {
   "cell_type": "code",
   "execution_count": 11,
   "metadata": {},
   "outputs": [],
   "source": [
    "from tkinter import * #To import the graphical user interface\n",
    "from tkinter.ttk import * #To provides access to the Tk themed widget set\n",
    "\n",
    "from time import strftime #The current time as returned by localtime() is used.\n",
    "\n",
    "root =Tk() #It helps to display the root window and manages all the other components of the tkinter application\n",
    "root.title(\" To Display the Clock\") #To display the heading as clock\n",
    "\n",
    "def time(): # To import the time\n",
    "  string = strftime('%I:%M:%S %P')#To convert into 12 hours\n",
    "  #string = strftime('%H:%M:%S %P')#To convert into 24 hours\n",
    "  Label.config(text=string)#used to show text or an image to the screen\n",
    "  Label.after(1000, time)#used to display fields of text or Images\n",
    "\n",
    "Label = Label(root, font=(\"ds-digital\", 80), background = \"black\", foreground = \"cyan\")\n",
    "Label.pack(anchor='center')#declares the position of widgets in relation to each other\n",
    "time()\n",
    "\n",
    "mainloop()#Tells Python to run the Tkinter event loop"
   ]
  },
  {
   "cell_type": "code",
   "execution_count": null,
   "metadata": {},
   "outputs": [],
   "source": []
  }
 ],
 "metadata": {
  "interpreter": {
   "hash": "aee8b7b246df8f9039afb4144a1f6fd8d2ca17a180786b69acc140d282b71a49"
  },
  "kernelspec": {
   "display_name": "Python 3.9.6 64-bit",
   "language": "python",
   "name": "python3"
  },
  "language_info": {
   "codemirror_mode": {
    "name": "ipython",
    "version": 3
   },
   "file_extension": ".py",
   "mimetype": "text/x-python",
   "name": "python",
   "nbconvert_exporter": "python",
   "pygments_lexer": "ipython3",
   "version": "3.9.6"
  },
  "orig_nbformat": 4
 },
 "nbformat": 4,
 "nbformat_minor": 2
}
